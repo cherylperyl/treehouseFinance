{
 "cells": [
  {
   "cell_type": "markdown",
   "source": [
    "# Test"
   ],
   "metadata": {}
  },
  {
   "cell_type": "code",
   "execution_count": 3,
   "source": [
    "from q6_code import totalDate\n",
    "\n",
    "count = totalDate('sampleDates.txt')\n",
    "print(f'Total number of valid dates: {count}')"
   ],
   "outputs": [
    {
     "output_type": "stream",
     "name": "stdout",
     "text": [
      "Total number of valid dates: 4\n"
     ]
    }
   ],
   "metadata": {}
  }
 ],
 "metadata": {
  "orig_nbformat": 4,
  "language_info": {
   "name": "python",
   "version": "3.8.3",
   "mimetype": "text/x-python",
   "codemirror_mode": {
    "name": "ipython",
    "version": 3
   },
   "pygments_lexer": "ipython3",
   "nbconvert_exporter": "python",
   "file_extension": ".py"
  },
  "kernelspec": {
   "name": "python3",
   "display_name": "Python 3.8.3 64-bit ('base': conda)"
  },
  "interpreter": {
   "hash": "7d8f72bd1ddf2ee43b81d67bfe47e6697c1cdd329dc2afedbe1dd15a379e95fe"
  }
 },
 "nbformat": 4,
 "nbformat_minor": 2
}