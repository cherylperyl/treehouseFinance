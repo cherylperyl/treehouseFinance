{
 "cells": [
  {
   "cell_type": "markdown",
   "source": [
    "# Finding the optimal portfolio holding by end of each month till end of 2016"
   ],
   "metadata": {}
  },
  {
   "cell_type": "code",
   "execution_count": null,
   "source": [
    "# use Efficient Frontier"
   ],
   "outputs": [],
   "metadata": {}
  }
 ],
 "metadata": {
  "language_info": {
   "name": "python",
   "version": "3.8.3",
   "mimetype": "text/x-python",
   "codemirror_mode": {
    "name": "ipython",
    "version": 3
   },
   "pygments_lexer": "ipython3",
   "nbconvert_exporter": "python",
   "file_extension": ".py"
  },
  "kernelspec": {
   "name": "python3",
   "display_name": "Python 3.8.3 64-bit ('base': conda)"
  },
  "interpreter": {
   "hash": "7d8f72bd1ddf2ee43b81d67bfe47e6697c1cdd329dc2afedbe1dd15a379e95fe"
  }
 },
 "nbformat": 4,
 "nbformat_minor": 4
}