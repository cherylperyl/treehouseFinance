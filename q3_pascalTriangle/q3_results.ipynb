{
 "cells": [
  {
   "cell_type": "markdown",
   "source": [
    "# Output for Question 3"
   ],
   "metadata": {}
  },
  {
   "cell_type": "code",
   "execution_count": 1,
   "source": [
    "from q3_code import computePascalLayer"
   ],
   "outputs": [],
   "metadata": {}
  },
  {
   "cell_type": "code",
   "execution_count": 2,
   "source": [
    "print(computePascalLayer(1))\n",
    "print(computePascalLayer(2))\n",
    "print(computePascalLayer(3))\n",
    "print(computePascalLayer(4))"
   ],
   "outputs": [
    {
     "output_type": "stream",
     "name": "stdout",
     "text": [
      "[1]\n",
      "[1, 1]\n",
      "[1, 2, 1]\n",
      "[1, 3, 3, 1]\n"
     ]
    }
   ],
   "metadata": {}
  }
 ],
 "metadata": {
  "orig_nbformat": 4,
  "language_info": {
   "name": "python",
   "version": "3.8.3",
   "mimetype": "text/x-python",
   "codemirror_mode": {
    "name": "ipython",
    "version": 3
   },
   "pygments_lexer": "ipython3",
   "nbconvert_exporter": "python",
   "file_extension": ".py"
  },
  "kernelspec": {
   "name": "python3",
   "display_name": "Python 3.8.3 64-bit ('base': conda)"
  },
  "interpreter": {
   "hash": "7d8f72bd1ddf2ee43b81d67bfe47e6697c1cdd329dc2afedbe1dd15a379e95fe"
  }
 },
 "nbformat": 4,
 "nbformat_minor": 2
}