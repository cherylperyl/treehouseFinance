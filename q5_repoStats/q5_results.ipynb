{
 "cells": [
  {
   "cell_type": "markdown",
   "source": [
    "# Output for Question 5\n",
    "Code from all 5 sections can be combined to a single function. But I kept them seperate to aid code comprehension."
   ],
   "metadata": {}
  },
  {
   "cell_type": "code",
   "execution_count": 10,
   "source": [
    "from q5a_code import countPyFiles\n",
    "from q5b_code import countLines\n",
    "from q5c_code import countFuncs\n",
    "# from q5d_code import countLinesOfChanges\n",
    "from q5e_code import getFolderSize"
   ],
   "outputs": [],
   "metadata": {}
  },
  {
   "cell_type": "code",
   "execution_count": 11,
   "source": [
    "# I used my personal directory to show the output of my code. You may replace the directory to your own git repo directory\n",
    "dir = \"/Users/cherylperyl/Documents/git_projects/treehouseFinance\""
   ],
   "outputs": [],
   "metadata": {}
  },
  {
   "cell_type": "code",
   "execution_count": 16,
   "source": [
    "print(\"a. How many python files\")\n",
    "countPyFiles(dir)\n",
    "\n",
    "print(\"\\nb. How many lines of code in total, how many lines of comment line (empty line doesn’t count)\")\n",
    "countLines(dir)\n",
    "\n",
    "print(\"\\nc. How many functions is defined in total\")\n",
    "countFuncs(dir)\n",
    "\n",
    "print(\"\\nd. How many lines of changes from the current version against HEAD~3\")\n",
    "# not sure\n",
    "\n",
    "print(\"\\ne. Total folder size (in MB) per each of the subfolder (down to 2 level depth)\")\n",
    "getFolderSize(dir)"
   ],
   "outputs": [
    {
     "output_type": "stream",
     "name": "stdout",
     "text": [
      "a. How many python files\n",
      "This git repo directory has 10 Python files.\n",
      "\n",
      "b. How many lines of code in total, how many lines of comment line (empty line doesn’t count)\n",
      "This git repo contains 155 lines of code and 93 lines of comments.\n",
      "\n",
      "c. How many functions is defined in total\n",
      "This git repo contains 15 defined functions.\n",
      "\n",
      "d. How many lines of changes from the current version against HEAD~3\n",
      "\n",
      "e. Total folder size (in MB) per each of the subfolder (down to 2 level depth)\n",
      " -------- Depth 1 --------\n",
      "Total size of subfolders: 0.0016319999999999998\n",
      "Size of subfolder 1: 0.00031999999999999997\n",
      "Size of subfolder 2: 9.6e-05\n",
      "Size of subfolder 3: 0.000192\n",
      "Size of subfolder 4: 9.6e-05\n",
      "Size of subfolder 5: 9.6e-05\n",
      "Size of subfolder 6: 0.00047999999999999996\n",
      "Size of subfolder 7: 0.000192\n",
      "Size of subfolder 8: 0.00015999999999999999\n",
      " -------- Depth 2 --------\n",
      "There are no subfolders at this level.\n"
     ]
    }
   ],
   "metadata": {}
  }
 ],
 "metadata": {
  "orig_nbformat": 4,
  "language_info": {
   "name": "python",
   "version": "3.8.3",
   "mimetype": "text/x-python",
   "codemirror_mode": {
    "name": "ipython",
    "version": 3
   },
   "pygments_lexer": "ipython3",
   "nbconvert_exporter": "python",
   "file_extension": ".py"
  },
  "kernelspec": {
   "name": "python3",
   "display_name": "Python 3.8.3 64-bit ('base': conda)"
  },
  "interpreter": {
   "hash": "7d8f72bd1ddf2ee43b81d67bfe47e6697c1cdd329dc2afedbe1dd15a379e95fe"
  }
 },
 "nbformat": 4,
 "nbformat_minor": 2
}